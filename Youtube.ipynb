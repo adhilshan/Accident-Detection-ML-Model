{
  "cells": [
    {
      "cell_type": "markdown",
      "metadata": {
        "id": "view-in-github",
        "colab_type": "text"
      },
      "source": [
        "<a href=\"https://colab.research.google.com/github/adewopova/Accident_detection_SM_City/blob/main/Youtube.ipynb\" target=\"_parent\"><img src=\"https://colab.research.google.com/assets/colab-badge.svg\" alt=\"Open In Colab\"/></a>"
      ]
    },
    {
      "cell_type": "code",
      "source": [
        "import googleapiclient.discovery\n",
        "from urllib.parse import parse_qs, urlparse\n",
        "\n",
        "#extract playlist id from url\n",
        "url = input(\"Enter your Youtube Playlist URL : \")\n",
        "query = parse_qs(urlparse(url).query, keep_blank_values=True)\n",
        "playlist_id = query[\"list\"][0]\n",
        "\n",
        "print(f'get all playlist items links from {playlist_id}')\n",
        "youtube = googleapiclient.discovery.build(\"youtube\", \"v3\", developerKey = \"\")\n",
        "\n",
        "request = youtube.playlistItems().list(\n",
        "    part = \"snippet\",\n",
        "    playlistId = playlist_id,\n",
        "    maxResults = 50\n",
        ")\n",
        "response = request.execute()\n",
        "\n",
        "playlist_items = []\n",
        "while request is not None:\n",
        "    response = request.execute()\n",
        "    playlist_items += response[\"items\"]\n",
        "    request = youtube.playlistItems().list_next(request, response)\n",
        "\n",
        "print(f\"total: {len(playlist_items)}\")\n",
        "urllists=('\\n'.join([ \n",
        "    f'https://www.youtube.com/watch?v={t[\"snippet\"][\"resourceId\"][\"videoId\"]}&list={playlist_id}&t=0s'\n",
        "    for t in playlist_items\n",
        "]))\n",
        "\n",
        "MyFile=open(\"C:/Users/Adewo/OneDrive - University of Cincinnati/Independent_Study/Dr.Nelly/Accident Video/playlist.txt\",'w')\n",
        "MyFile.writelines(urllists)\n",
        "MyFile.close()"
      ],
      "metadata": {
        "id": "cF2uMpP-0cbx"
      },
      "execution_count": null,
      "outputs": []
    },
    {
      "cell_type": "code",
      "source": [
        "https://youtube.com/playlist?list=PLDMvZ0Ys4CdFasdrRUqF4dSISgrb5iPkM"
      ],
      "metadata": {
        "id": "xn_oNqse06CS"
      },
      "execution_count": null,
      "outputs": []
    },
    {
      "cell_type": "code",
      "source": [],
      "metadata": {
        "id": "0pEmi6CL06gf"
      },
      "execution_count": null,
      "outputs": []
    }
  ],
  "metadata": {
    "colab": {
      "provenance": [],
      "include_colab_link": true
    },
    "language_info": {
      "name": "python"
    },
    "kernelspec": {
      "name": "python3",
      "display_name": "Python 3"
    },
    "gpuClass": "standard"
  },
  "nbformat": 4,
  "nbformat_minor": 0
}
